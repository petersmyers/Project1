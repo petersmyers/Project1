{
 "cells": [
  {
   "cell_type": "code",
   "execution_count": 1,
   "metadata": {},
   "outputs": [],
   "source": [
    "import csv\n",
    "import pandas as pd\n",
    "import os"
   ]
  },
  {
   "cell_type": "code",
   "execution_count": 2,
   "metadata": {},
   "outputs": [
    {
     "name": "stdout",
     "output_type": "stream",
     "text": [
      "   List_ID           County State                              Hospital Name  \\\n",
      "0        0  Franklin Parish    LA                    Franklin Medical Center   \n",
      "1        1  Caldwell Parish    LA                 Caldwell Memorial Hospital   \n",
      "2        2     Sioux County    ND  Fort Yates Indian Health Service Hospital   \n",
      "3        3     Sioux County    ND                       McLaughlin VA Clinic   \n",
      "4        4     Sioux County    ND                 West River Health Services   \n",
      "\n",
      "   Rating  Rating Count  \n",
      "0     2.5            13  \n",
      "1     5.0             2  \n",
      "2     3.0             5  \n",
      "3     0.0             0  \n",
      "4     0.0             0  \n"
     ]
    }
   ],
   "source": [
    "file = \"cleaned_hospital_data.csv\"\n",
    "\n",
    "hospital_data_df = pd.DataFrame(pd.read_csv(file))\n",
    "\n",
    "# print(hospital_data_df.head())"
   ]
  },
  {
   "cell_type": "code",
   "execution_count": 3,
   "metadata": {},
   "outputs": [
    {
     "name": "stdout",
     "output_type": "stream",
     "text": [
      "            County State\n",
      "0  Franklin Parish    LA\n",
      "1  Caldwell Parish    LA\n",
      "2     Sioux County    ND\n",
      "3     Sioux County    ND\n",
      "4     Sioux County    ND\n"
     ]
    }
   ],
   "source": [
    "columns = [\"List_ID\", \"Hospital Name\", \"Rating\", \"Rating Count\"]\n",
    "\n",
    "hospital_data_df.drop(columns, axis=1, inplace=True)\n",
    "\n",
    "# print(hospital_data_df.head())"
   ]
  },
  {
   "cell_type": "code",
   "execution_count": 4,
   "metadata": {
    "scrolled": true
   },
   "outputs": [
    {
     "name": "stdout",
     "output_type": "stream",
     "text": [
      "            County State       Full Location\n",
      "0  Franklin Parish    LA  Franklin Parish LA\n",
      "1  Caldwell Parish    LA  Caldwell Parish LA\n",
      "2     Sioux County    ND     Sioux County ND\n",
      "3     Sioux County    ND     Sioux County ND\n",
      "4     Sioux County    ND     Sioux County ND\n"
     ]
    }
   ],
   "source": [
    "hospital_data_df[\"Full Location\"] = hospital_data_df[\"County\"] + \" \" + hospital_data_df[\"State\"]\n",
    "\n",
    "# print(hospital_data_df.head())"
   ]
  },
  {
   "cell_type": "code",
   "execution_count": 5,
   "metadata": {},
   "outputs": [
    {
     "name": "stdout",
     "output_type": "stream",
     "text": [
      "         Full Location            County State  Hospital Count\n",
      "0  Abbeville County SC  Abbeville County    SC               1\n",
      "1     Acadia Parish LA     Acadia Parish    LA              19\n",
      "2   Accomack County VA   Accomack County    VA               1\n",
      "3        Ada County ID        Ada County    ID              20\n",
      "4      Adair County IA      Adair County    IA               1\n"
     ]
    }
   ],
   "source": [
    "result = hospital_data_df.groupby(\"Full Location\").first()\n",
    "# print(result.head())\n",
    "\n",
    "result[\"Hospital Count\"] = hospital_data_df[\"Full Location\"].value_counts()\n",
    "result.reset_index(inplace=True)\n",
    "\n",
    "# print(result.head())\n",
    "# print(hospital_data_df.head())"
   ]
  },
  {
   "cell_type": "code",
   "execution_count": 6,
   "metadata": {},
   "outputs": [
    {
     "name": "stdout",
     "output_type": "stream",
     "text": [
      "             County State  Hospital Count\n",
      "0  Abbeville County    SC               1\n",
      "1     Acadia Parish    LA              19\n",
      "2   Accomack County    VA               1\n",
      "3        Ada County    ID              20\n",
      "4      Adair County    IA               1\n"
     ]
    }
   ],
   "source": [
    "result = result.drop(\"Full Location\", axis=1)\n",
    "\n",
    "# print(result.head())"
   ]
  },
  {
   "cell_type": "code",
   "execution_count": 7,
   "metadata": {},
   "outputs": [],
   "source": [
    "result.to_csv(r\"number_of_hospitals_per_county.csv\")"
   ]
  }
 ],
 "metadata": {
  "kernelspec": {
   "display_name": "Python 3",
   "language": "python",
   "name": "python3"
  },
  "language_info": {
   "codemirror_mode": {
    "name": "ipython",
    "version": 3
   },
   "file_extension": ".py",
   "mimetype": "text/x-python",
   "name": "python",
   "nbconvert_exporter": "python",
   "pygments_lexer": "ipython3",
   "version": "3.6.7"
  }
 },
 "nbformat": 4,
 "nbformat_minor": 2
}
